{
 "cells": [
  {
   "cell_type": "code",
   "execution_count": 4,
   "metadata": {},
   "outputs": [
    {
     "name": "stdout",
     "output_type": "stream",
     "text": [
      "Yes\n",
      "Yes\n"
     ]
    }
   ],
   "source": [
    "class LBTrie:\n",
    "    \"\"\"\n",
    "    simple implemention of Trie in Python by authon liubing, which is not \n",
    "    perfect but just to illustrate the basis and principle of Trie. \n",
    "    \"\"\"\n",
    "    def __init__(self):\n",
    "        self.trie = {}\n",
    "        self.size = 0\n",
    "       \n",
    "    #添加单词 \n",
    "    def add(self, word):\n",
    "        p = self.trie\n",
    "        word = word.strip()\n",
    "        for c in word:\n",
    "            if not c in p:\n",
    "                p[c] = {}\n",
    "            p = p[c]\n",
    "        if word != '':\n",
    "            #在单词末尾处添加键值''作为标记，即只要某个字符的字典中含有''键即为单词结尾\n",
    "            p[''] = '' \n",
    "      \n",
    "    #查询单词      \n",
    "    def search(self, word):\n",
    "        p = self.trie\n",
    "        word = word.lstrip()\n",
    "        for c in word:\n",
    "            if not c in p:\n",
    "                return False\n",
    "            p = p[c]\n",
    "        #判断单词结束标记''\n",
    "        if '' in p:\n",
    "            return True\n",
    "        return False          \n",
    "    \n",
    "    #打印Trie树的接口\n",
    "    def output(self):\n",
    "        print ('{')\n",
    "        self.__print_item(self.trie)    \n",
    "        print ('}')\n",
    "        \n",
    "    \n",
    "    #实现Trie树打印的私有递归函数，indent控制缩进\n",
    "    def __print_item(self, p, indent=0):     \n",
    "        if p:\n",
    "            ind = '' + '\\t' * indent\n",
    "            for key in p.keys():\n",
    "                label = \"'%s' : \" % key\n",
    "                print (ind + label + '{')\n",
    "                self.__print_item(p[key], indent+1)\n",
    "            print (ind + ' '*len(label) + '}')  \n",
    "            \n",
    "    \n",
    "if __name__ == '__main__':\n",
    "    trie_obj = LBTrie()\n",
    "    #添加单词\n",
    "    trie_obj.add('图书情报学')\n",
    "    trie_obj.add('金融行业')\n",
    "    trie_obj.add('结束')\n",
    "    trie_obj.add('you')\n",
    "    #打印构建的Trie树\n",
    "    #trie_obj.output()\n",
    "    #查找单词     \n",
    "    if trie_obj.search('图书情报学'):\n",
    "        print ('Yes')\n",
    "    else:\n",
    "        print ('No')\n",
    "    if trie_obj.search('结束'):\n",
    "        print ('Yes')\n",
    "    else:\n",
    "        print ('No')"
   ]
  },
  {
   "cell_type": "code",
   "execution_count": null,
   "metadata": {},
   "outputs": [],
   "source": []
  },
  {
   "cell_type": "code",
   "execution_count": 1,
   "metadata": {},
   "outputs": [],
   "source": [
    "class TSTreeNode(object):\n",
    "\n",
    "    def __init__(self, key, value, low, eq, high):\n",
    "        self.key = key\n",
    "        self.low = low\n",
    "        self.eq = eq\n",
    "        self.high = high\n",
    "        self.value = value\n",
    "\n",
    "\n",
    "class TSTree(object):\n",
    "\n",
    "    def __init__(self):\n",
    "        self.root = None\n",
    "\n",
    "    def _get(self, node, keys):\n",
    "        key = keys[0]\n",
    "        if key < node.key:\n",
    "            return self._get(node.low, keys)\n",
    "        elif key == node.key:\n",
    "            if len(keys) > 1:\n",
    "                return self._get(node.eq, keys[1:])\n",
    "            else:\n",
    "                return node.value\n",
    "        else:\n",
    "            return self._get(node.high, keys)\n",
    "\n",
    "    def get(self, key):\n",
    "        keys = [x for x in key]\n",
    "        return self._get(self.root, keys)\n",
    "\n",
    "    def _set(self, node, keys, value):\n",
    "        next_key = keys[0]\n",
    "\n",
    "        if not node:\n",
    "            # what happens if you add the value here?\n",
    "            node = TSTreeNode(next_key, None, None, None, None)\n",
    "\n",
    "        if next_key < node.key:\n",
    "            node.low = self._set(node.low, keys, value)\n",
    "        elif next_key == node.key:\n",
    "            if len(keys) > 1:\n",
    "                node.eq = self._set(node.eq, keys[1:], value)\n",
    "            else:\n",
    "                # what happens if you DO NOT add the value here?\n",
    "                node.value = value\n",
    "        else:\n",
    "            node.high = self._set(node.high, keys, value)\n",
    "\n",
    "        return node\n",
    "\n",
    "    def set(self, key, value):\n",
    "        keys = [x for x in key]\n",
    "        self.root = self._set(self.root, keys, value)\n",
    "if __name__ == '__main__':\n",
    "    treeobj= TSTreeNode()\n",
    "    "
   ]
  },
  {
   "cell_type": "code",
   "execution_count": 56,
   "metadata": {},
   "outputs": [
    {
     "data": {
      "text/plain": [
       "bool"
      ]
     },
     "execution_count": 56,
     "metadata": {},
     "output_type": "execute_result"
    }
   ],
   "source": [
    "def checkodd(num):\n",
    "    if num%2 == 0:\n",
    "        return type(num) is tuple"
   ]
  },
  {
   "cell_type": "code",
   "execution_count": 34,
   "metadata": {},
   "outputs": [],
   "source": [
    "\"\"\" Tries in python\n",
    "Methods -  insert_key(k, v)\n",
    "           has_key(k)\n",
    "           retrie_val(k)\n",
    "           start_with_prefix(prefix)\n",
    "\"\"\"\n",
    "\n",
    "\n",
    "def _get_child_branches(trie):\n",
    "    \"\"\"\n",
    "    Helper method for getting branches\n",
    "    \"\"\"\n",
    "    return trie[1:]\n",
    "\n",
    "\n",
    "def _get_child_branch(trie, c):\n",
    "    \"\"\"\n",
    "    Get branch matching the character\n",
    "    \"\"\"\n",
    "    for branch in _get_child_branches(trie):\n",
    "        if branch[0] == c:\n",
    "            return branch\n",
    "\n",
    "    return None\n",
    "\n",
    "\n",
    "def _retrive_branch(k, trie):\n",
    "    \"\"\"\n",
    "    Get branch matching the key word\n",
    "    \"\"\"\n",
    "    if not k:\n",
    "        return None\n",
    "\n",
    "    for c in k:\n",
    "        child_branch = _get_child_branch(trie, c)\n",
    "        if not child_branch:\n",
    "            return None\n",
    "        trie = child_branch\n",
    "\n",
    "    return trie\n",
    "\n",
    "\n",
    "def _is_trie_bucket(bucket):\n",
    "    if len(bucket) != 2:\n",
    "        return False\n",
    "\n",
    "    return type(bucket[1]) is tuple\n",
    "\n",
    "\n",
    "def _get_bucket_key(bucket):\n",
    "    if not _is_trie_bucket(bucket):\n",
    "        return None\n",
    "\n",
    "    return bucket[1][0]\n",
    "\n",
    "\n",
    "def has_key(k, trie):\n",
    "    \"\"\"\n",
    "    Check if trie contain the key word\n",
    "    \"\"\"\n",
    "    return _retrive_branch(k, trie) is not None\n",
    "\n",
    "\n",
    "def retrie_val(k, trie):\n",
    "    key_tuple = _retrive_branch(k, trie)\n",
    "    if not key_tuple:\n",
    "        return None\n",
    "\n",
    "    return key_tuple[1]\n",
    "\n",
    "\n",
    "def insert_key(key, v, trie):\n",
    "    \"\"\"\n",
    "    Insert a (key, value) pair into trie\n",
    "    \"\"\"\n",
    "    if not key or has_key(key, trie):\n",
    "        return\n",
    "\n",
    "    for char in key:\n",
    "        branch = _get_child_branch(trie, char)\n",
    "        if not branch:\n",
    "            new_branch = [char]\n",
    "            trie.append(new_branch)\n",
    "            trie = new_branch\n",
    "        else:\n",
    "            trie = branch\n",
    "    trie.append((key, v))\n",
    "\n",
    "\n",
    "def start_with_prefix(prefix, trie):\n",
    "    \"\"\"\n",
    "    Find words start with prefix\n",
    "    \"\"\"\n",
    "    branch = _retrive_branch(prefix, trie)\n",
    "    if not branch:\n",
    "        return []\n",
    "\n",
    "    prefix_list = []\n",
    "    q = branch[1:]\n",
    "    while q:\n",
    "        curr_branch = q.pop(0)\n",
    "        if _is_trie_bucket(curr_branch):\n",
    "            prefix_list.append(_get_bucket_key(curr_branch))\n",
    "        else:\n",
    "            q.extend(curr_branch[1:])\n",
    "\n",
    "    return prefix_list"
   ]
  },
  {
   "cell_type": "code",
   "execution_count": 40,
   "metadata": {},
   "outputs": [
    {
     "name": "stdout",
     "output_type": "stream",
     "text": [
      "[]\n"
     ]
    }
   ],
   "source": [
    "trie = [[]]\n",
    "states = \"\"\"\n",
    "            Alabama\n",
    "            Alaska\n",
    "            Arizona\n",
    "            Arkansas\n",
    "            California\n",
    "            Colorado\n",
    "            Connecticu\n",
    "            Hawaii\n",
    "            Idaho\n",
    "            Illinois\n",
    "            Indiana\n",
    "            Maine\n",
    "            Maryland\n",
    "            Massachusetts\n",
    "            Michigan\n",
    "            Minnesota\n",
    "            Mississippi\n",
    "            Missouri\n",
    "            Montana\n",
    "\"\"\"\n",
    "states_list = [w.strip().lower() for w in states.splitlines() if w]\n",
    "for state in states_list:\n",
    "    insert_key(state, True, trie)\n",
    "print(start_with_prefix(\"d\", trie))"
   ]
  },
  {
   "cell_type": "code",
   "execution_count": 33,
   "metadata": {},
   "outputs": [
    {
     "data": {
      "text/plain": [
       "True"
      ]
     },
     "execution_count": 33,
     "metadata": {},
     "output_type": "execute_result"
    }
   ],
   "source": [
    "isinstance(a, list)"
   ]
  },
  {
   "cell_type": "code",
   "execution_count": 32,
   "metadata": {},
   "outputs": [],
   "source": [
    "a = [a for a in 'name']"
   ]
  },
  {
   "cell_type": "code",
   "execution_count": 69,
   "metadata": {},
   "outputs": [],
   "source": [
    "trie = [[]]\n",
    "trie.append(['a'])"
   ]
  },
  {
   "cell_type": "code",
   "execution_count": 71,
   "metadata": {},
   "outputs": [],
   "source": [
    "new = ['a']\n",
    "new.append(['p'])"
   ]
  },
  {
   "cell_type": "code",
   "execution_count": 72,
   "metadata": {},
   "outputs": [
    {
     "data": {
      "text/plain": [
       "['a', ['p']]"
      ]
     },
     "execution_count": 72,
     "metadata": {},
     "output_type": "execute_result"
    }
   ],
   "source": [
    "new"
   ]
  },
  {
   "cell_type": "code",
   "execution_count": null,
   "metadata": {},
   "outputs": [],
   "source": []
  }
 ],
 "metadata": {
  "kernelspec": {
   "display_name": "Python 3",
   "language": "python",
   "name": "python3"
  },
  "language_info": {
   "codemirror_mode": {
    "name": "ipython",
    "version": 3
   },
   "file_extension": ".py",
   "mimetype": "text/x-python",
   "name": "python",
   "nbconvert_exporter": "python",
   "pygments_lexer": "ipython3",
   "version": "3.6.7"
  }
 },
 "nbformat": 4,
 "nbformat_minor": 2
}
